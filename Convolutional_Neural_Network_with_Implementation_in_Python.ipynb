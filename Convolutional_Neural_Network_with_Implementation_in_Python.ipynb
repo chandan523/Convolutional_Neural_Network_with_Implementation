{
  "nbformat": 4,
  "nbformat_minor": 0,
  "metadata": {
    "colab": {
      "provenance": []
    },
    "kernelspec": {
      "name": "python3",
      "display_name": "Python 3"
    },
    "language_info": {
      "name": "python"
    }
  },
  "cells": [
    {
      "cell_type": "code",
      "source": [
        "#importing the required libraries\n",
        "from tensorflow.keras.datasets import mnist\n",
        "from tensorflow.keras.models import Sequential\n",
        "from tensorflow.keras.layers import Conv2D\n",
        "from tensorflow.keras.layers import MaxPool2D\n",
        "from tensorflow.keras.layers import Flatten\n",
        "from tensorflow.keras.layers import Dropout\n",
        "from tensorflow.keras.layers import Dense"
      ],
      "metadata": {
        "id": "jwSbZuZdWkOr"
      },
      "execution_count": null,
      "outputs": []
    },
    {
      "cell_type": "code",
      "source": [
        "#loading data\n",
        "(X_train,y_train) , (X_test,y_test)=mnist.load_data()\n",
        "\n",
        "#reshaping data\n",
        "X_train = X_train.reshape((X_train.shape[0], X_train.shape[1], X_train.shape[2], 1))\n",
        "X_test = X_test.reshape((X_test.shape[0],X_test.shape[1],X_test.shape[2],1))"
      ],
      "metadata": {
        "colab": {
          "base_uri": "https://localhost:8080/"
        },
        "id": "aocmE-mbW-BN",
        "outputId": "f70fddf1-f72f-487c-e062-12bb379bbf44"
      },
      "execution_count": null,
      "outputs": [
        {
          "output_type": "stream",
          "name": "stdout",
          "text": [
            "Downloading data from https://storage.googleapis.com/tensorflow/tf-keras-datasets/mnist.npz\n",
            "11490434/11490434 [==============================] - 0s 0us/step\n"
          ]
        }
      ]
    },
    {
      "cell_type": "code",
      "source": [
        "#checking the shape after reshaping\n",
        "print(X_train.shape)\n",
        "print(X_test.shape)\n",
        "\n",
        "#normalizing the pixel values\n",
        "X_train=X_train/255\n",
        "X_test=X_test/255"
      ],
      "metadata": {
        "colab": {
          "base_uri": "https://localhost:8080/"
        },
        "id": "E0t8kNkfXEHs",
        "outputId": "34bc5065-6ea8-4f98-dbcf-b7ec918b6912"
      },
      "execution_count": null,
      "outputs": [
        {
          "output_type": "stream",
          "name": "stdout",
          "text": [
            "(60000, 28, 28, 1)\n",
            "(10000, 28, 28, 1)\n"
          ]
        }
      ]
    },
    {
      "cell_type": "code",
      "source": [
        "#defining model\n",
        "model=Sequential()\n",
        "\n",
        "#adding convolution layer\n",
        "model.add(Conv2D(32,(3,3),activation='relu',input_shape=(28,28,1)))\n",
        "\n",
        "#adding pooling layer\n",
        "model.add(MaxPool2D(2,2))\n",
        "\n",
        "#adding fully connected layer\n",
        "model.add(Flatten())\n",
        "model.add(Dense(100,activation='relu'))"
      ],
      "metadata": {
        "id": "ZT9bvBB_XSts"
      },
      "execution_count": null,
      "outputs": []
    },
    {
      "cell_type": "code",
      "source": [
        "#adding output layer\n",
        "model.add(Dense(50,activation='softmax'))\n",
        "\n",
        "#compiling the model\n",
        "model.compile(loss='sparse_categorical_crossentropy',optimizer='adam',metrics=['accuracy'])\n",
        "\n",
        "#fitting the model\n",
        "model.fit(X_train,y_train,epochs=50)"
      ],
      "metadata": {
        "colab": {
          "base_uri": "https://localhost:8080/"
        },
        "id": "x4rDvu-kXesl",
        "outputId": "094cc1c9-e394-4092-d247-2129b0ccfe27"
      },
      "execution_count": null,
      "outputs": [
        {
          "output_type": "stream",
          "name": "stdout",
          "text": [
            "Epoch 1/50\n",
            "1875/1875 [==============================] - 20s 11ms/step - loss: 2.3524 - accuracy: 0.2086\n",
            "Epoch 2/50\n",
            "1875/1875 [==============================] - 19s 10ms/step - loss: 1.6934 - accuracy: 0.3085\n",
            "Epoch 3/50\n",
            "1875/1875 [==============================] - 20s 11ms/step - loss: 1.3735 - accuracy: 0.4194\n",
            "Epoch 4/50\n",
            "1875/1875 [==============================] - 20s 11ms/step - loss: 0.9699 - accuracy: 0.5925\n",
            "Epoch 5/50\n",
            "1875/1875 [==============================] - 19s 10ms/step - loss: 0.7185 - accuracy: 0.7310\n",
            "Epoch 6/50\n",
            "1875/1875 [==============================] - 20s 10ms/step - loss: 0.3730 - accuracy: 0.8927\n",
            "Epoch 7/50\n",
            "1875/1875 [==============================] - 19s 10ms/step - loss: 0.2772 - accuracy: 0.8973\n",
            "Epoch 8/50\n",
            "1875/1875 [==============================] - 20s 10ms/step - loss: 0.2334 - accuracy: 0.8996\n",
            "Epoch 9/50\n",
            "1875/1875 [==============================] - 19s 10ms/step - loss: 0.2068 - accuracy: 0.9010\n",
            "Epoch 10/50\n",
            "1875/1875 [==============================] - 19s 10ms/step - loss: 0.1724 - accuracy: 0.9259\n",
            "Epoch 11/50\n",
            "1875/1875 [==============================] - 20s 10ms/step - loss: 0.0533 - accuracy: 0.9958\n",
            "Epoch 12/50\n",
            "1875/1875 [==============================] - 20s 10ms/step - loss: 0.0286 - accuracy: 0.9972\n",
            "Epoch 13/50\n",
            "1875/1875 [==============================] - 19s 10ms/step - loss: 0.0183 - accuracy: 0.9982\n",
            "Epoch 14/50\n",
            "1875/1875 [==============================] - 20s 10ms/step - loss: 0.0150 - accuracy: 0.9983\n",
            "Epoch 15/50\n",
            "1875/1875 [==============================] - 20s 11ms/step - loss: 0.0116 - accuracy: 0.9987\n",
            "Epoch 16/50\n",
            "1875/1875 [==============================] - 19s 10ms/step - loss: 0.0104 - accuracy: 0.9985\n",
            "Epoch 17/50\n",
            "1875/1875 [==============================] - 20s 10ms/step - loss: 0.0095 - accuracy: 0.9985\n",
            "Epoch 18/50\n",
            "1875/1875 [==============================] - 19s 10ms/step - loss: 0.0087 - accuracy: 0.9986\n",
            "Epoch 19/50\n",
            "1875/1875 [==============================] - 19s 10ms/step - loss: 0.0070 - accuracy: 0.9989\n",
            "Epoch 20/50\n",
            "1875/1875 [==============================] - 20s 10ms/step - loss: 0.0065 - accuracy: 0.9989\n",
            "Epoch 21/50\n",
            "1875/1875 [==============================] - 19s 10ms/step - loss: 0.0072 - accuracy: 0.9990\n",
            "Epoch 22/50\n",
            "1875/1875 [==============================] - 19s 10ms/step - loss: 0.0046 - accuracy: 0.9992\n",
            "Epoch 23/50\n",
            "1875/1875 [==============================] - 19s 10ms/step - loss: 0.0043 - accuracy: 0.9994\n",
            "Epoch 24/50\n",
            "1875/1875 [==============================] - 19s 10ms/step - loss: 0.0051 - accuracy: 0.9990\n",
            "Epoch 25/50\n",
            "1875/1875 [==============================] - 19s 10ms/step - loss: 0.0048 - accuracy: 0.9992\n",
            "Epoch 26/50\n",
            "1875/1875 [==============================] - 19s 10ms/step - loss: 0.0045 - accuracy: 0.9992\n",
            "Epoch 27/50\n",
            "1875/1875 [==============================] - 19s 10ms/step - loss: 0.0051 - accuracy: 0.9989\n",
            "Epoch 28/50\n",
            "1875/1875 [==============================] - 20s 10ms/step - loss: 0.0034 - accuracy: 0.9995\n",
            "Epoch 29/50\n",
            "1875/1875 [==============================] - 20s 10ms/step - loss: 0.0044 - accuracy: 0.9992\n",
            "Epoch 30/50\n",
            "1875/1875 [==============================] - 19s 10ms/step - loss: 0.0040 - accuracy: 0.9994\n",
            "Epoch 31/50\n",
            "1875/1875 [==============================] - 19s 10ms/step - loss: 0.0030 - accuracy: 0.9996\n",
            "Epoch 32/50\n",
            "1875/1875 [==============================] - 20s 10ms/step - loss: 0.0034 - accuracy: 0.9995\n",
            "Epoch 33/50\n",
            "1875/1875 [==============================] - 19s 10ms/step - loss: 0.0020 - accuracy: 0.9998\n",
            "Epoch 34/50\n",
            "1875/1875 [==============================] - 20s 10ms/step - loss: 0.0031 - accuracy: 0.9995\n",
            "Epoch 35/50\n",
            "1875/1875 [==============================] - 19s 10ms/step - loss: 0.0045 - accuracy: 0.9992\n",
            "Epoch 36/50\n",
            "1875/1875 [==============================] - 19s 10ms/step - loss: 0.0018 - accuracy: 0.9998\n",
            "Epoch 37/50\n",
            "1875/1875 [==============================] - 20s 10ms/step - loss: 0.0035 - accuracy: 0.9995\n",
            "Epoch 38/50\n",
            "1875/1875 [==============================] - 20s 11ms/step - loss: 0.0015 - accuracy: 0.9997\n",
            "Epoch 39/50\n",
            "1875/1875 [==============================] - 19s 10ms/step - loss: 8.9969e-04 - accuracy: 0.9999\n",
            "Epoch 40/50\n",
            "1875/1875 [==============================] - 20s 10ms/step - loss: 0.0041 - accuracy: 0.9991\n",
            "Epoch 41/50\n",
            "1875/1875 [==============================] - 19s 10ms/step - loss: 0.0024 - accuracy: 0.9996\n",
            "Epoch 42/50\n",
            "1875/1875 [==============================] - 20s 10ms/step - loss: 0.0028 - accuracy: 0.9994\n",
            "Epoch 43/50\n",
            "1875/1875 [==============================] - 20s 11ms/step - loss: 0.0015 - accuracy: 0.9997\n",
            "Epoch 44/50\n",
            "1875/1875 [==============================] - 19s 10ms/step - loss: 0.0033 - accuracy: 0.9995\n",
            "Epoch 45/50\n",
            "1875/1875 [==============================] - 20s 11ms/step - loss: 0.0018 - accuracy: 0.9997\n",
            "Epoch 46/50\n",
            "1875/1875 [==============================] - 20s 11ms/step - loss: 0.0013 - accuracy: 0.9998\n",
            "Epoch 47/50\n",
            "1875/1875 [==============================] - 19s 10ms/step - loss: 0.0024 - accuracy: 0.9996\n",
            "Epoch 48/50\n",
            "1875/1875 [==============================] - 20s 11ms/step - loss: 0.0028 - accuracy: 0.9994\n",
            "Epoch 49/50\n",
            "1875/1875 [==============================] - 20s 11ms/step - loss: 0.0021 - accuracy: 0.9996\n",
            "Epoch 50/50\n",
            "1875/1875 [==============================] - 19s 10ms/step - loss: 9.2416e-04 - accuracy: 0.9998\n"
          ]
        },
        {
          "output_type": "execute_result",
          "data": {
            "text/plain": [
              "<keras.src.callbacks.History at 0x7b929b521810>"
            ]
          },
          "metadata": {},
          "execution_count": 9
        }
      ]
    },
    {
      "cell_type": "code",
      "source": [
        "#evaluting the model\n",
        "model.evaluate(X_test,y_test)"
      ],
      "metadata": {
        "colab": {
          "base_uri": "https://localhost:8080/"
        },
        "id": "oTF1ohIwbmI5",
        "outputId": "a755719a-2d21-4ab8-8403-e3ba1a22d6ee"
      },
      "execution_count": null,
      "outputs": [
        {
          "output_type": "stream",
          "name": "stdout",
          "text": [
            "313/313 [==============================] - 1s 4ms/step - loss: 0.1185 - accuracy: 0.9848\n"
          ]
        },
        {
          "output_type": "execute_result",
          "data": {
            "text/plain": [
              "[0.11852214485406876, 0.9847999811172485]"
            ]
          },
          "metadata": {},
          "execution_count": 10
        }
      ]
    }
  ]
}